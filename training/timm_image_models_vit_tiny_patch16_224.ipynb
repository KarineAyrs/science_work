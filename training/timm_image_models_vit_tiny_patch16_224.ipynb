{
  "nbformat": 4,
  "nbformat_minor": 0,
  "metadata": {
    "colab": {
      "name": "timm_image_models_vit_tiny_patch16_224.ipynb",
      "provenance": [],
      "collapsed_sections": [],
      "mount_file_id": "1_LlO9DhYgGfGTcATeqOYFmdMhASqiZ5i",
      "authorship_tag": "ABX9TyP6pAhRUY04O+5Tveosv8YY",
      "include_colab_link": true
    },
    "kernelspec": {
      "name": "python3",
      "display_name": "Python 3"
    },
    "language_info": {
      "name": "python"
    },
    "accelerator": "GPU"
  },
  "cells": [
    {
      "cell_type": "markdown",
      "metadata": {
        "id": "view-in-github",
        "colab_type": "text"
      },
      "source": [
        "<a href=\"https://colab.research.google.com/github/KarineAyrs/science_work/blob/main/training/timm_image_models_vit_tiny_patch16_224.ipynb\" target=\"_parent\"><img src=\"https://colab.research.google.com/assets/colab-badge.svg\" alt=\"Open In Colab\"/></a>"
      ]
    },
    {
      "cell_type": "code",
      "metadata": {
        "colab": {
          "base_uri": "https://localhost:8080/"
        },
        "id": "Kqg5NtudUE5G",
        "outputId": "6b03cd78-2eef-4849-cf72-aa5f10977e4d"
      },
      "source": [
        "from google.colab import drive\n",
        "drive.mount('/content/drive/',force_remount=True)"
      ],
      "execution_count": 1,
      "outputs": [
        {
          "output_type": "stream",
          "name": "stdout",
          "text": [
            "Mounted at /content/drive/\n"
          ]
        }
      ]
    },
    {
      "cell_type": "code",
      "metadata": {
        "id": "KeFXCWaJhVzZ"
      },
      "source": [
        "!pip install timm"
      ],
      "execution_count": null,
      "outputs": []
    },
    {
      "cell_type": "code",
      "metadata": {
        "id": "8SSc8PYIUBjC"
      },
      "source": [
        "import timm"
      ],
      "execution_count": 3,
      "outputs": []
    },
    {
      "cell_type": "code",
      "metadata": {
        "id": "DCuK7Nl3S48h"
      },
      "source": [
        "import torch\n",
        "import torch.nn as nn\n",
        "import torch.optim as optim\n",
        "import torch.nn.functional as F\n",
        "from torch.utils.data import DataLoader\n",
        "import torchvision.datasets as datasets\n",
        "import torchvision.transforms as transforms"
      ],
      "execution_count": 4,
      "outputs": []
    },
    {
      "cell_type": "code",
      "metadata": {
        "id": "hNxEcAWywpS5"
      },
      "source": [
        "timm.list_models()"
      ],
      "execution_count": null,
      "outputs": []
    },
    {
      "cell_type": "code",
      "metadata": {
        "id": "QePKeTguWW2m"
      },
      "source": [
        "model_name = 'vit_tiny_patch16_224'"
      ],
      "execution_count": 12,
      "outputs": []
    },
    {
      "cell_type": "code",
      "metadata": {
        "colab": {
          "base_uri": "https://localhost:8080/"
        },
        "id": "veBu34UJY3tP",
        "outputId": "a36ba468-ee98-494e-8262-f1ea0a44b372"
      },
      "source": [
        "timm_model=timm.create_model(model_name=model_name)\n",
        "\n",
        "timm_model.eval()\n",
        "\n",
        "x= torch.randn(1, 3, 224, 224)\n",
        "print(timm_model(x).shape)\n"
      ],
      "execution_count": 13,
      "outputs": [
        {
          "output_type": "stream",
          "name": "stdout",
          "text": [
            "torch.Size([1, 1000])\n"
          ]
        }
      ]
    },
    {
      "cell_type": "code",
      "metadata": {
        "id": "5Z5TBaJCXD6F",
        "colab": {
          "base_uri": "https://localhost:8080/"
        },
        "outputId": "238ea13a-5c20-4f4e-ef6b-1102d2b84b13"
      },
      "source": [
        "device = torch.device('cuda' if torch.cuda.is_available() else 'cpu')\n",
        "\n",
        "print(device)"
      ],
      "execution_count": 14,
      "outputs": [
        {
          "output_type": "stream",
          "name": "stdout",
          "text": [
            "cuda\n"
          ]
        }
      ]
    },
    {
      "cell_type": "code",
      "metadata": {
        "id": "B6tNY4GClSkq"
      },
      "source": [
        "if torch.cuda.is_available():\n",
        "    timm_model.cuda()"
      ],
      "execution_count": 15,
      "outputs": []
    },
    {
      "cell_type": "code",
      "metadata": {
        "id": "3z8QYUMTXSor"
      },
      "source": [
        "learning_rate=0.001\n",
        "batch_size=2\n",
        "num_epochs=1\n",
        "\n",
        "timm_model.train()"
      ],
      "execution_count": null,
      "outputs": []
    },
    {
      "cell_type": "code",
      "metadata": {
        "id": "_VSygcx8XdRB"
      },
      "source": [
        "train_dataset = datasets.MNIST(root='dataset/', train=True, transform=transforms.ToTensor(), download=True)\n",
        "train_loader=DataLoader(dataset=train_dataset, batch_size=batch_size, shuffle=True)\n",
        "\n",
        "test_dataset = datasets.MNIST(root='dataset/', train=False, transform=transforms.ToTensor(), download=True)\n",
        "test_loader=DataLoader(dataset=test_dataset, batch_size=batch_size, shuffle=True)"
      ],
      "execution_count": null,
      "outputs": []
    },
    {
      "cell_type": "code",
      "metadata": {
        "id": "dPo5vOl3YbkU"
      },
      "source": [
        "criterion = nn.CrossEntropyLoss()\n",
        "optimizer = optim.Adam(timm_model.parameters(), lr=learning_rate)"
      ],
      "execution_count": 18,
      "outputs": []
    },
    {
      "cell_type": "code",
      "metadata": {
        "id": "hc5Ij1n-YvBR",
        "colab": {
          "base_uri": "https://localhost:8080/"
        },
        "outputId": "7e1dd6d4-cdfc-4dbd-be42-ce089f257b54"
      },
      "source": [
        "for epoch in range(num_epochs):\n",
        "  print(f'epoch:{epoch}')\n",
        "  for batch, (data, targets) in enumerate(train_loader):\n",
        "    # Get data to cuda if possible\n",
        "    data=data.to(device=device)\n",
        "    targets=targets.to(device=device)\n",
        "    \n",
        "    \n",
        "    data = data.repeat(1,3,8,8)\n",
        "    # print(data.shape)\n",
        "    # break\n",
        "\n",
        "    # forward\n",
        "    scores = timm_model(data)\n",
        "    loss = criterion(scores, targets)\n",
        "\n",
        "    # backward\n",
        "    optimizer.zero_grad()\n",
        "    loss.backward()\n",
        "\n",
        "    # gradient descent or adam step\n",
        "    optimizer.step()\n",
        "\n"
      ],
      "execution_count": 21,
      "outputs": [
        {
          "output_type": "stream",
          "name": "stdout",
          "text": [
            "epoch:0\n"
          ]
        }
      ]
    },
    {
      "cell_type": "code",
      "metadata": {
        "id": "rkf3BaQQanK3"
      },
      "source": [
        "\n",
        "def check_accuracy(loader, model):\n",
        "  if loader.dataset.train:\n",
        "    print('Checking accuracy on training data')\n",
        "  else:\n",
        "    print('Checking accuracy o test data')\n",
        "  num_correct = 0\n",
        "  num_samples = 0\n",
        "  model.eval()\n",
        "\n",
        "  with torch.no_grad():\n",
        "    for x,y in loader:\n",
        "      x=x.to(device=device)\n",
        "      y=y.to(device=device)\n",
        "\n",
        "     \n",
        "      x=x.repeat(1,3,8,8)\n",
        "\n",
        "      scores = model(x)\n",
        "      _, predictions = scores.max(1)\n",
        "      num_correct+=(predictions==y).sum()\n",
        "      num_samples+=predictions.size(0)\n",
        "    \n",
        "    print(f'Got {num_correct}/{num_samples} with accuracy {(float(num_correct)/float(num_samples))*100}')\n",
        "  \n",
        "  model.train()\n",
        " \n",
        "  "
      ],
      "execution_count": 24,
      "outputs": []
    },
    {
      "cell_type": "code",
      "metadata": {
        "colab": {
          "base_uri": "https://localhost:8080/"
        },
        "id": "4PArk6qscqs1",
        "outputId": "c0ef8236-5b6c-4cf5-ad7b-62712726c7f2"
      },
      "source": [
        "check_accuracy(train_loader, timm_model)\n",
        "check_accuracy(test_loader, timm_model)"
      ],
      "execution_count": 25,
      "outputs": [
        {
          "output_type": "stream",
          "name": "stdout",
          "text": [
            "Checking accuracy on training data\n",
            "Got 31057/60000 with accuracy 51.76166666666666\n",
            "Checking accuracy o test data\n",
            "Got 5099/10000 with accuracy 50.99\n"
          ]
        }
      ]
    }
  ]
}