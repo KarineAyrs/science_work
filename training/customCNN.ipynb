{
 "cells": [
  {
   "cell_type": "code",
   "execution_count": 1,
   "id": "080408f0",
   "metadata": {},
   "outputs": [],
   "source": [
    "import numpy as np\n",
    "import pandas as pd\n",
    "import matplotlib.pyplot as plt"
   ]
  },
  {
   "cell_type": "markdown",
   "id": "cd78c866",
   "metadata": {},
   "source": [
    "<b>Load</b>"
   ]
  },
  {
   "cell_type": "code",
   "execution_count": 2,
   "id": "d5fa818c",
   "metadata": {},
   "outputs": [],
   "source": [
    "tensor = np.load('tensor.npy')\n",
    "kernel = np.load('kernel.npy')\n",
    "bias = np.load('bias.npy')\n",
    "stride =  pd.read_csv('task.csv')['stride'][0]"
   ]
  },
  {
   "cell_type": "markdown",
   "id": "c1274db4",
   "metadata": {},
   "source": [
    "<b>Shape</b>"
   ]
  },
  {
   "cell_type": "code",
   "execution_count": 3,
   "id": "f47e537a",
   "metadata": {},
   "outputs": [
    {
     "name": "stdout",
     "output_type": "stream",
     "text": [
      "tensor(2, 10, 13, 3)\n",
      "kernel(7, 7, 3, 5)\n",
      "bias(5,)\n",
      "stride=3\n"
     ]
    }
   ],
   "source": [
    "print(f'tensor{tensor.shape}\\nkernel{kernel.shape}\\nbias{bias.shape}\\nstride={stride}')"
   ]
  },
  {
   "cell_type": "markdown",
   "id": "2c7c05ae",
   "metadata": {},
   "source": [
    "<b>Convolution</b> </br>\n",
    "Good example of convolution: https://cs231n.github.io/assets/conv-demo/index.html"
   ]
  },
  {
   "cell_type": "code",
   "execution_count": 4,
   "id": "14b897c6",
   "metadata": {},
   "outputs": [],
   "source": [
    "def conv(tensor, kernel, bias, stride):\n",
    "    #in \n",
    "    N = tensor.shape[0]\n",
    "    c_in = tensor.shape[3]\n",
    "    H, W = tensor.shape[1], tensor.shape[2]\n",
    "    kh = kernel.shape[0]\n",
    "    kw = kernel.shape[1]\n",
    "    \n",
    "    #out\n",
    "    \n",
    "    c_out = kernel.shape[3]\n",
    "    H_out = int((H-kh)/stride+1)\n",
    "    W_out = int((W-kw)/stride+1)\n",
    "    \n",
    "    Y = np.zeros((N, H_out, W_out, c_out))\n",
    "    \n",
    "    for batch in range(N):\n",
    "        for cout in range(c_out):            \n",
    "            cards = np.zeros((H_out, W_out, c_in))\n",
    "            \n",
    "            for cin in range(c_in):\n",
    "                card = np.zeros((H_out, W_out))\n",
    "                \n",
    "                for i in range(H_out):\n",
    "                    for j in range(W_out):      \n",
    "                        to_mul = tensor[batch,i*stride:kh+i*stride,j*stride:kw+j*stride,cin]\n",
    "                        card[i][j] = np.sum(to_mul*kernel[:,:,cin,cout])\n",
    "                    \n",
    "\n",
    "                cards[:,:,cin] = card\n",
    "                                  \n",
    "            Y[batch,:,:,cout]=np.sum(cards, axis=2)+bias[cout]           \n",
    "                        \n",
    "\n",
    "    return Y\n",
    "\n",
    "        "
   ]
  },
  {
   "cell_type": "markdown",
   "id": "4edb3ad4",
   "metadata": {},
   "source": [
    "<b>Original tensor</b>"
   ]
  },
  {
   "cell_type": "code",
   "execution_count": 5,
   "id": "0ed689f1",
   "metadata": {},
   "outputs": [
    {
     "name": "stderr",
     "output_type": "stream",
     "text": [
      "Clipping input data to the valid range for imshow with RGB data ([0..1] for floats or [0..255] for integers).\n"
     ]
    },
    {
     "data": {
      "image/png": "[encoded data removed]",
      "text/plain": [
       "<Figure size 432x288 with 1 Axes>"
      ]
     },
     "metadata": {
      "needs_background": "light"
     },
     "output_type": "display_data"
    }
   ],
   "source": [
    "plt.imshow(tensor[0])\n",
    "plt.show()"
   ]
  },
  {
   "cell_type": "markdown",
   "id": "9e7f2176",
   "metadata": {},
   "source": [
    "<b>One card of tensor after Convolution </b>"
   ]
  },
  {
   "cell_type": "code",
   "execution_count": 6,
   "id": "71343e91",
   "metadata": {},
   "outputs": [
    {
     "data": {
      "image/png": "[encoded data removed]",
      "text/plain": [
       "<Figure size 432x288 with 1 Axes>"
      ]
     },
     "metadata": {
      "needs_background": "light"
     },
     "output_type": "display_data"
    }
   ],
   "source": [
    "Y = conv(tensor, kernel,bias,stride)\n",
    "plt.imshow(Y[0,:,:,3])\n",
    "plt.show()"
   ]
  },
  {
   "cell_type": "markdown",
   "id": "1dab5518",
   "metadata": {},
   "source": [
    "<b> Five cards of two \"images\" </b>"
   ]
  },
  {
   "cell_type": "code",
   "execution_count": 7,
   "id": "ac9434fe",
   "metadata": {},
   "outputs": [
    {
     "data": {
      "image/png": "[encoded data removed]",
      "text/plain": [
       "<Figure size 720x360 with 10 Axes>"
      ]
     },
     "metadata": {
      "needs_background": "light"
     },
     "output_type": "display_data"
    }
   ],
   "source": [
    "fig, axes = plt.subplots(nrows=2, ncols=5, figsize=(10,5)) \n",
    "\n",
    "\n",
    "for i, image in enumerate(Y):\n",
    "    for j in range(image.shape[2]):\n",
    "        axes[i,j].imshow(image[:,:,j])\n",
    "        axes[i,j].set_title(f'batch={i}, card={j}')\n",
    "        \n",
    "\n",
    "plt.tight_layout()"
   ]
  }
 ],
 "metadata": {
  "kernelspec": {
   "display_name": "Python 3 (ipykernel)",
   "language": "python",
   "name": "python3"
  },
  "language_info": {
   "codemirror_mode": {
    "name": "ipython",
    "version": 3
   },
   "file_extension": ".py",
   "mimetype": "text/x-python",
   "name": "python",
   "nbconvert_exporter": "python",
   "pygments_lexer": "ipython3",
   "version": "3.8.10"
  }
 },
 "nbformat": 4,
 "nbformat_minor": 5
}
