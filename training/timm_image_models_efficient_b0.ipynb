{
  "nbformat": 4,
  "nbformat_minor": 0,
  "metadata": {
    "colab": {
      "name": "timm_image_models_efficient_b0.ipynb",
      "provenance": [],
      "collapsed_sections": [],
      "mount_file_id": "1_LlO9DhYgGfGTcATeqOYFmdMhASqiZ5i",
      "authorship_tag": "ABX9TyOez3jrI1pY7MpC1Hs9QMhT",
      "include_colab_link": true
    },
    "kernelspec": {
      "name": "python3",
      "display_name": "Python 3"
    },
    "language_info": {
      "name": "python"
    },
    "accelerator": "GPU"
  },
  "cells": [
    {
      "cell_type": "markdown",
      "metadata": {
        "id": "view-in-github",
        "colab_type": "text"
      },
      "source": [
        "<a href=\"https://colab.research.google.com/github/KarineAyrs/science_work/blob/main/training/timm_image_models_efficient_b0.ipynb\" target=\"_parent\"><img src=\"https://colab.research.google.com/assets/colab-badge.svg\" alt=\"Open In Colab\"/></a>"
      ]
    },
    {
      "cell_type": "code",
      "metadata": {
        "colab": {
          "base_uri": "https://localhost:8080/"
        },
        "id": "Kqg5NtudUE5G",
        "outputId": "54483cc8-6862-4a91-a08b-f6e0825fc834"
      },
      "source": [
        "from google.colab import drive\n",
        "drive.mount('/content/drive/',force_remount=True)"
      ],
      "execution_count": 1,
      "outputs": [
        {
          "output_type": "stream",
          "name": "stdout",
          "text": [
            "Mounted at /content/drive/\n"
          ]
        }
      ]
    },
    {
      "cell_type": "code",
      "metadata": {
        "id": "KeFXCWaJhVzZ"
      },
      "source": [
        "!pip install timm"
      ],
      "execution_count": null,
      "outputs": []
    },
    {
      "cell_type": "code",
      "metadata": {
        "id": "8SSc8PYIUBjC"
      },
      "source": [
        "import timm"
      ],
      "execution_count": 3,
      "outputs": []
    },
    {
      "cell_type": "code",
      "metadata": {
        "id": "DCuK7Nl3S48h"
      },
      "source": [
        "import torch\n",
        "import torch.nn as nn\n",
        "import torch.optim as optim\n",
        "import torch.nn.functional as F\n",
        "from torch.utils.data import DataLoader\n",
        "import torchvision.datasets as datasets\n",
        "import torchvision.transforms as transforms"
      ],
      "execution_count": 4,
      "outputs": []
    },
    {
      "cell_type": "code",
      "metadata": {
        "id": "hNxEcAWywpS5"
      },
      "source": [
        "timm.list_models()"
      ],
      "execution_count": null,
      "outputs": []
    },
    {
      "cell_type": "code",
      "metadata": {
        "id": "QePKeTguWW2m"
      },
      "source": [
        "model_name = 'efficientnet_b0'"
      ],
      "execution_count": 6,
      "outputs": []
    },
    {
      "cell_type": "code",
      "metadata": {
        "colab": {
          "base_uri": "https://localhost:8080/"
        },
        "id": "veBu34UJY3tP",
        "outputId": "5aad5f7a-8af7-4640-9bb8-427d8397e86c"
      },
      "source": [
        "timm_model=timm.create_model(model_name=model_name)\n",
        "\n",
        "timm_model.eval()\n",
        "\n",
        "x= torch.randn(1, 3, 28, 28)\n",
        "print(timm_model(x).shape)\n"
      ],
      "execution_count": 11,
      "outputs": [
        {
          "output_type": "stream",
          "name": "stdout",
          "text": [
            "torch.Size([1, 1000])\n"
          ]
        }
      ]
    },
    {
      "cell_type": "code",
      "metadata": {
        "id": "5Z5TBaJCXD6F",
        "colab": {
          "base_uri": "https://localhost:8080/"
        },
        "outputId": "81d34f12-14e4-489e-ef93-043b0bc8b769"
      },
      "source": [
        "device = torch.device('cuda' if torch.cuda.is_available() else 'cpu')\n",
        "\n",
        "print(device)"
      ],
      "execution_count": 12,
      "outputs": [
        {
          "output_type": "stream",
          "name": "stdout",
          "text": [
            "cuda\n"
          ]
        }
      ]
    },
    {
      "cell_type": "code",
      "metadata": {
        "id": "B6tNY4GClSkq"
      },
      "source": [
        "if torch.cuda.is_available():\n",
        "    timm_model.cuda()"
      ],
      "execution_count": 14,
      "outputs": []
    },
    {
      "cell_type": "code",
      "metadata": {
        "id": "3z8QYUMTXSor"
      },
      "source": [
        "learning_rate=0.001\n",
        "batch_size=2\n",
        "num_epochs=1\n",
        "\n",
        "timm_model.train()"
      ],
      "execution_count": null,
      "outputs": []
    },
    {
      "cell_type": "code",
      "metadata": {
        "id": "_VSygcx8XdRB"
      },
      "source": [
        "train_dataset = datasets.MNIST(root='dataset/', train=True, transform=transforms.ToTensor(), download=True)\n",
        "train_loader=DataLoader(dataset=train_dataset, batch_size=batch_size, shuffle=True)\n",
        "\n",
        "test_dataset = datasets.MNIST(root='dataset/', train=False, transform=transforms.ToTensor(), download=True)\n",
        "test_loader=DataLoader(dataset=test_dataset, batch_size=batch_size, shuffle=True)"
      ],
      "execution_count": null,
      "outputs": []
    },
    {
      "cell_type": "code",
      "metadata": {
        "id": "dPo5vOl3YbkU"
      },
      "source": [
        "criterion = nn.CrossEntropyLoss()\n",
        "optimizer = optim.Adam(timm_model.parameters(), lr=learning_rate)"
      ],
      "execution_count": 18,
      "outputs": []
    },
    {
      "cell_type": "code",
      "metadata": {
        "id": "hc5Ij1n-YvBR"
      },
      "source": [
        "for epoch in range(num_epochs):\n",
        "  print(f'epoch:{epoch}')\n",
        "  for batch, (data, targets) in enumerate(train_loader):\n",
        "    # Get data to cuda if possible\n",
        "    data=data.to(device=device)\n",
        "    targets=targets.to(device=device)\n",
        "    \n",
        "    \n",
        "    data = data.repeat(1,3,1,1)\n",
        "\n",
        "    # forward\n",
        "    scores = timm_model(data)\n",
        "    loss = criterion(scores, targets)\n",
        "\n",
        "    # backward\n",
        "    optimizer.zero_grad()\n",
        "    loss.backward()\n",
        "\n",
        "    # gradient descent or adam step\n",
        "    optimizer.step()\n",
        "\n"
      ],
      "execution_count": null,
      "outputs": []
    },
    {
      "cell_type": "code",
      "metadata": {
        "id": "rkf3BaQQanK3"
      },
      "source": [
        "\n",
        "def check_accuracy(loader, model):\n",
        "  if loader.dataset.train:\n",
        "    print('Checking accuracy on training data')\n",
        "  else:\n",
        "    print('Checking accuracy o test data')\n",
        "  num_correct = 0\n",
        "  num_samples = 0\n",
        "  model.eval()\n",
        "\n",
        "  with torch.no_grad():\n",
        "    for x,y in loader:\n",
        "      x=x.to(device=device)\n",
        "      y=y.to(device=device)\n",
        "\n",
        "      x=x.repeat(1,3,1,1)\n",
        "\n",
        "      scores = model(x)\n",
        "      _, predictions = scores.max(1)\n",
        "      num_correct+=(predictions==y).sum()\n",
        "      num_samples+=predictions.size(0)\n",
        "    \n",
        "    print(f'Got {num_correct}/{num_samples} with accuracy {(float(num_correct)/float(num_samples))*100}')\n",
        "  \n",
        "  model.train()\n",
        " \n",
        "  "
      ],
      "execution_count": 20,
      "outputs": []
    },
    {
      "cell_type": "code",
      "metadata": {
        "colab": {
          "base_uri": "https://localhost:8080/"
        },
        "id": "4PArk6qscqs1",
        "outputId": "7ff4ba2c-0097-467a-ec39-7e11bad90821"
      },
      "source": [
        "check_accuracy(train_loader, timm_model)\n",
        "check_accuracy(test_loader, timm_model)"
      ],
      "execution_count": 21,
      "outputs": [
        {
          "output_type": "stream",
          "name": "stdout",
          "text": [
            "Checking accuracy on training data\n",
            "Got 6457/60000 with accuracy 10.761666666666667\n",
            "Checking accuracy o test data\n",
            "Got 1107/10000 with accuracy 11.07\n"
          ]
        }
      ]
    }
  ]
}